{
 "cells": [
  {
   "cell_type": "code",
   "execution_count": null,
   "id": "33757e47-3459-42c5-8b07-50ac4f2e7b53",
   "metadata": {},
   "outputs": [],
   "source": [
    "# Importing the required libraries\n",
    "import nfl_data_py as nfl\n",
    "import pandas as pd\n",
    "\n",
    "# Pulling data (for example, play-by-play data for 2023)\n",
    "years = [2023]\n",
    "pbp_data = nfl.import_pbp_data(years)\n",
    "\n",
    "# Show the first few rows of the data\n",
    "pbp_data.head()"
   ]
  },
  {
   "cell_type": "code",
   "execution_count": null,
   "id": "056d8eed-943c-4245-919b-af1ba87c2e15",
   "metadata": {},
   "outputs": [],
   "source": [
    "# Checking for missing values\n",
    "missing_values = pbp_data.isnull().sum()\n",
    "\n",
    "# Checking the data types\n",
    "data_types = pbp_data.dtypes\n",
    "\n",
    "# Display results\n",
    "print(\"Missing values in the dataset:\")\n",
    "print(missing_values)\n",
    "\n",
    "print(\"\\nData types of the columns:\")\n",
    "print(data_types)"
   ]
  },
  {
   "cell_type": "code",
   "execution_count": null,
   "id": "ee8d608b-8d04-469a-95f5-b127c228d17f",
   "metadata": {},
   "outputs": [],
   "source": [
    "# Dropping rows with missing values\n",
    "cleaned_pbp_data = pbp_data.dropna()\n",
    "\n",
    "# Showing the first few rows of the cleaned dataset\n",
    "cleaned_pbp_data.head()"
   ]
  },
  {
   "cell_type": "code",
   "execution_count": null,
   "id": "dec67cd0-137d-4973-a0aa-a6582b29733c",
   "metadata": {},
   "outputs": [],
   "source": [
    "# Getting summary statistics for numerical columns\n",
    "summary_stats = cleaned_pbp_data.describe()\n",
    "\n",
    "# Display summary statistics\n",
    "summary_stats"
   ]
  },
  {
   "cell_type": "code",
   "execution_count": null,
   "id": "06734351-15bd-4263-8137-27986ab2f3ac",
   "metadata": {},
   "outputs": [],
   "source": [
    "import matplotlib.pyplot as plt\n",
    "\n",
    "# Plot histogram of yards gained\n",
    "cleaned_pbp_data['yards_gained'].hist(bins=20)\n",
    "plt.title('Distribution of Yards Gained in 2023 Plays')\n",
    "plt.xlabel('Yards Gained')\n",
    "plt.ylabel('Frequency')\n",
    "plt.show()"
   ]
  },
  {
   "cell_type": "code",
   "execution_count": null,
   "id": "da36c737-7ee1-4047-8275-c55e911498fc",
   "metadata": {},
   "outputs": [],
   "source": [
    "# Saving the cleaned data to a CSV file\n",
    "cleaned_pbp_data.to_csv('cleaned_pbp_data_2023.csv', index=False)"
   ]
  }
 ],
 "metadata": {
  "kernelspec": {
   "display_name": "Python 3 (ipykernel)",
   "language": "python",
   "name": "python3"
  },
  "language_info": {
   "codemirror_mode": {
    "name": "ipython",
    "version": 3
   },
   "file_extension": ".py",
   "mimetype": "text/x-python",
   "name": "python",
   "nbconvert_exporter": "python",
   "pygments_lexer": "ipython3",
   "version": "3.10.11"
  }
 },
 "nbformat": 4,
 "nbformat_minor": 5
}
